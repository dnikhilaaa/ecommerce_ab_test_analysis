{
 "cells": [
  {
   "cell_type": "code",
   "execution_count": null,
   "id": "515350d3",
   "metadata": {
    "vscode": {
     "languageId": "plaintext"
    }
   },
   "outputs": [],
   "source": [
    "import pandas as pd\n",
    "import scipy.stats as stats\n",
    "\n",
    "# Load data\n",
    "df = pd.read_csv(\"ab_test_data.csv\")\n",
    "\n",
    "# Group A and Group B\n",
    "group_a = df[df['group'] == 'A']['converted']\n",
    "group_b = df[df['group'] == 'B']['converted']\n",
    "\n",
    "# Perform t-test\n",
    "t_stat, p_val = stats.ttest_ind(group_a, group_b)\n",
    "print(\"T-Statistic:\", t_stat)\n",
    "print(\"P-Value:\", p_val)\n",
    "\n",
    "if p_val < 0.05:\n",
    "    print(\"Statistically significant difference.\")\n",
    "else:\n",
    "    print(\"No significant difference.\")\n"
   ]
  }
 ],
 "metadata": {
  "language_info": {
   "name": "python"
  }
 },
 "nbformat": 4,
 "nbformat_minor": 5
}
